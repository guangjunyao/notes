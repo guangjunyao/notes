{
 "cells": [
  {
   "cell_type": "markdown",
   "metadata": {},
   "source": [
    "Principal Component Analysis converts correlated variables into a set of values of linearly uncorrelated variables called pricipal components. The first component contributes most of the variance.\n",
    "\n",
    "PCA is a tool used for data visualization or data pre-processing before supervised techniques are applied. it involves only a set of features X_1, X_2, ....Xp, and no associated response Y.\n",
    "\n",
    "#### Pro: \n",
    "* Explain a data set with few data.\n",
    "* There are no special assumptions on the data and PCA can be applied on all data-sets.\n",
    "\n",
    "#### Con: \n",
    "* Non-linear structure is hard to model with PCA.\n",
    "* The meaning of the original variables may be difficult to assess directly on latent variables (but use the loading plot) or Varimax, factor analysis etc.\n",
    "\n",
    "The covariance matrix is needlessly large if your number of dimensions >> number of data points.\n",
    "\n",
    "Consider an Index and the stocks composing for this index, all the stocks are correlated.\n",
    "\n",
    "It's hard to use all the correlated factors to explain the movements of a stock index statistically. Principal Components are derived that well suited to explain the movements in the stock index."
   ]
  },
  {
   "cell_type": "code",
   "execution_count": 1,
   "metadata": {
    "collapsed": false
   },
   "outputs": [
    {
     "name": "stderr",
     "output_type": "stream",
     "text": [
      "/home/weiwu/.virtualenvs/data_analysis/local/lib/python2.7/site-packages/pandas/io/data.py:35: FutureWarning: \n",
      "The pandas.io.data module is moved to a separate package (pandas-datareader) and will be removed from pandas in a future version.\n",
      "After installing the pandas-datareader package (https://github.com/pydata/pandas-datareader), you can change the import ``from pandas.io import data, wb`` to ``from pandas_datareader import data, wb``.\n",
      "  FutureWarning)\n"
     ]
    }
   ],
   "source": [
    "import numpy as np\n",
    "from pandas_datareader import base, data\n",
    "from sklearn.decomposition import KernelPCA\n",
    "import pandas as pd\n",
    "import pandas.io.data as web"
   ]
  },
  {
   "cell_type": "code",
   "execution_count": 2,
   "metadata": {
    "collapsed": false
   },
   "outputs": [],
   "source": [
    "symbols = ['ADS.DE', 'ALV.DE', 'BAS.DE', 'BAYN.DE', 'BEI.DE',\n",
    "           'BMW.DE', 'CBK.DE', 'CON.DE', 'DAI.DE', 'DB1.DE',\n",
    "           'DBK.DE', 'DPW.DE', 'DTE.DE', 'EOAN.DE', 'FME.DE',\n",
    "           'FRE.DE', 'HEI.DE', 'HEN3.DE', 'IFX.DE', 'LHA.DE',\n",
    "           'LIN.DE', 'LXS.DE', 'MRK.DE', 'MUV2.DE', 'RWE.DE',\n",
    "           'SAP.DE', 'SDF.DE', 'SIE.DE', 'TKA.DE', 'VOW3.DE',\n",
    "           '^GDAXI']"
   ]
  },
  {
   "cell_type": "code",
   "execution_count": 3,
   "metadata": {
    "collapsed": false
   },
   "outputs": [],
   "source": [
    "# df = web.DataReader(symbols, 'yahoo')\n",
    "data = pd.DataFrame()\n",
    "for sym in symbols:\n",
    "    data[sym] = web.DataReader(sym, data_source='yahoo', start='20160510')['Adj Close']\n",
    "data = data.dropna()"
   ]
  },
  {
   "cell_type": "code",
   "execution_count": 4,
   "metadata": {
    "collapsed": true
   },
   "outputs": [],
   "source": [
    "#data = df['Adj Close'].dropna()"
   ]
  },
  {
   "cell_type": "code",
   "execution_count": 5,
   "metadata": {
    "collapsed": false,
    "scrolled": true
   },
   "outputs": [],
   "source": [
    "dax = pd.DataFrame(data.pop('^GDAXI'))"
   ]
  },
  {
   "cell_type": "code",
   "execution_count": 6,
   "metadata": {
    "collapsed": false,
    "scrolled": true
   },
   "outputs": [
    {
     "data": {
      "text/html": [
       "<div>\n",
       "<table border=\"1\" class=\"dataframe\">\n",
       "  <thead>\n",
       "    <tr style=\"text-align: right;\">\n",
       "      <th></th>\n",
       "      <th>ADS.DE</th>\n",
       "      <th>ALV.DE</th>\n",
       "      <th>BAS.DE</th>\n",
       "      <th>BAYN.DE</th>\n",
       "      <th>BEI.DE</th>\n",
       "      <th>BMW.DE</th>\n",
       "    </tr>\n",
       "    <tr>\n",
       "      <th>Date</th>\n",
       "      <th></th>\n",
       "      <th></th>\n",
       "      <th></th>\n",
       "      <th></th>\n",
       "      <th></th>\n",
       "      <th></th>\n",
       "    </tr>\n",
       "  </thead>\n",
       "  <tbody>\n",
       "    <tr>\n",
       "      <th>2016-05-10</th>\n",
       "      <td>111.2931</td>\n",
       "      <td>135.59</td>\n",
       "      <td>66.702</td>\n",
       "      <td>95.426</td>\n",
       "      <td>79.6014</td>\n",
       "      <td>71.824</td>\n",
       "    </tr>\n",
       "    <tr>\n",
       "      <th>2016-05-11</th>\n",
       "      <td>110.4644</td>\n",
       "      <td>132.87</td>\n",
       "      <td>66.132</td>\n",
       "      <td>95.283</td>\n",
       "      <td>78.7778</td>\n",
       "      <td>70.802</td>\n",
       "    </tr>\n",
       "    <tr>\n",
       "      <th>2016-05-12</th>\n",
       "      <td>110.5619</td>\n",
       "      <td>130.86</td>\n",
       "      <td>64.740</td>\n",
       "      <td>90.662</td>\n",
       "      <td>78.3709</td>\n",
       "      <td>69.716</td>\n",
       "    </tr>\n",
       "    <tr>\n",
       "      <th>2016-05-13</th>\n",
       "      <td>108.6829</td>\n",
       "      <td>131.96</td>\n",
       "      <td>65.474</td>\n",
       "      <td>91.605</td>\n",
       "      <td>78.6388</td>\n",
       "      <td>70.918</td>\n",
       "    </tr>\n",
       "    <tr>\n",
       "      <th>2016-05-17</th>\n",
       "      <td>108.7324</td>\n",
       "      <td>131.14</td>\n",
       "      <td>65.436</td>\n",
       "      <td>91.234</td>\n",
       "      <td>77.5969</td>\n",
       "      <td>68.793</td>\n",
       "    </tr>\n",
       "  </tbody>\n",
       "</table>\n",
       "</div>"
      ],
      "text/plain": [
       "              ADS.DE  ALV.DE  BAS.DE  BAYN.DE   BEI.DE  BMW.DE\n",
       "Date                                                          \n",
       "2016-05-10  111.2931  135.59  66.702   95.426  79.6014  71.824\n",
       "2016-05-11  110.4644  132.87  66.132   95.283  78.7778  70.802\n",
       "2016-05-12  110.5619  130.86  64.740   90.662  78.3709  69.716\n",
       "2016-05-13  108.6829  131.96  65.474   91.605  78.6388  70.918\n",
       "2016-05-17  108.7324  131.14  65.436   91.234  77.5969  68.793"
      ]
     },
     "execution_count": 6,
     "metadata": {},
     "output_type": "execute_result"
    }
   ],
   "source": [
    "data[data.columns[:6]].head()"
   ]
  },
  {
   "cell_type": "markdown",
   "metadata": {},
   "source": [
    "### Applying PCA"
   ]
  },
  {
   "cell_type": "raw",
   "metadata": {},
   "source": [
    "PCA works with normalized data sets."
   ]
  },
  {
   "cell_type": "code",
   "execution_count": 7,
   "metadata": {
    "collapsed": true
   },
   "outputs": [],
   "source": [
    "scale_function = lambda x: (x - x.mean()) / x.std()"
   ]
  },
  {
   "cell_type": "raw",
   "metadata": {},
   "source": [
    "Consider PCA with multiple components."
   ]
  },
  {
   "cell_type": "code",
   "execution_count": 8,
   "metadata": {
    "collapsed": false
   },
   "outputs": [],
   "source": [
    "pca = KernelPCA().fit(data.apply(scale_function))"
   ]
  },
  {
   "cell_type": "code",
   "execution_count": 9,
   "metadata": {
    "collapsed": false
   },
   "outputs": [
    {
     "data": {
      "text/plain": [
       "137"
      ]
     },
     "execution_count": 9,
     "metadata": {},
     "output_type": "execute_result"
    }
   ],
   "source": [
    "len(pca.lambdas_)"
   ]
  },
  {
   "cell_type": "raw",
   "metadata": {},
   "source": [
    "The fifth component already has almost negligible influence."
   ]
  },
  {
   "cell_type": "code",
   "execution_count": 10,
   "metadata": {
    "collapsed": false
   },
   "outputs": [
    {
     "data": {
      "text/plain": [
       "array([ 5032.,  1047.,   752.,   267.,   131.,    93.,    61.,    43.,\n",
       "          34.,    27.])"
      ]
     },
     "execution_count": 10,
     "metadata": {},
     "output_type": "execute_result"
    }
   ],
   "source": [
    "pca.lambdas_[:10].round()"
   ]
  },
  {
   "cell_type": "raw",
   "metadata": {},
   "source": [
    "Analyze relative importance of each component, normalize these value."
   ]
  },
  {
   "cell_type": "code",
   "execution_count": 11,
   "metadata": {
    "collapsed": true
   },
   "outputs": [],
   "source": [
    "get_we = lambda x: x / x.sum()"
   ]
  },
  {
   "cell_type": "code",
   "execution_count": 12,
   "metadata": {
    "collapsed": false,
    "scrolled": true
   },
   "outputs": [
    {
     "data": {
      "text/plain": [
       "array([ 0.65774151,  0.13683607,  0.09827087,  0.03484447,  0.01711015,\n",
       "        0.01219465,  0.00791495,  0.00568182,  0.00448305,  0.00356995])"
      ]
     },
     "execution_count": 12,
     "metadata": {},
     "output_type": "execute_result"
    }
   ],
   "source": [
    "get_we(pca.lambdas_)[:10]"
   ]
  },
  {
   "cell_type": "raw",
   "metadata": {},
   "source": [
    "The first component already explains about 65% of the variability in the 30 time series. The first 6 components explain about 95% of the variability."
   ]
  },
  {
   "cell_type": "code",
   "execution_count": 13,
   "metadata": {
    "collapsed": false
   },
   "outputs": [
    {
     "data": {
      "text/plain": [
       "0.95699771812076306"
      ]
     },
     "execution_count": 13,
     "metadata": {},
     "output_type": "execute_result"
    }
   ],
   "source": [
    "get_we(pca.lambdas_)[:6].sum()"
   ]
  },
  {
   "cell_type": "markdown",
   "metadata": {},
   "source": [
    "### Constructing a PCA Index"
   ]
  },
  {
   "cell_type": "raw",
   "metadata": {},
   "source": [
    "Use PCA to construct a PCA index over time and compare it with the original index."
   ]
  },
  {
   "cell_type": "raw",
   "metadata": {},
   "source": [
    "Have a PCA index with a single component only:"
   ]
  },
  {
   "cell_type": "code",
   "execution_count": 14,
   "metadata": {
    "collapsed": true
   },
   "outputs": [],
   "source": [
    "pca = KernelPCA(n_components=1).fit(data.apply(scale_function))\n",
    "dax['PCA_1'] = pca.transform(-data)"
   ]
  },
  {
   "cell_type": "code",
   "execution_count": 15,
   "metadata": {
    "collapsed": false
   },
   "outputs": [
    {
     "data": {
      "text/plain": [
       "<matplotlib.axes._subplots.AxesSubplot at 0x7fc1978e4b90>"
      ]
     },
     "execution_count": 15,
     "metadata": {},
     "output_type": "execute_result"
    },
    {
     "data": {
      "image/png": "[encoded data removed]",
      "text/plain": [
       "<matplotlib.figure.Figure at 0x7fc1978e4310>"
      ]
     },
     "metadata": {},
     "output_type": "display_data"
    }
   ],
   "source": [
    "import matplotlib.pyplot as plt\n",
    "%matplotlib inline\n",
    "dax.apply(scale_function).plot(figsize=(8, 4))\n",
    "# tag: pca_1\n",
    "# title: German DAX index and PCA index with 1 component"
   ]
  },
  {
   "cell_type": "raw",
   "metadata": {},
   "source": [
    "Improve the results b adding more components. We need to calculate a weighted average from the single resulting components."
   ]
  },
  {
   "cell_type": "code",
   "execution_count": 18,
   "metadata": {
    "collapsed": true
   },
   "outputs": [],
   "source": [
    "pca = KernelPCA(n_components=6).fit(data.apply(scale_function))\n",
    "pca_components = pca.transform(-data)\n",
    "weights = get_we(pca.lambdas_)\n",
    "dax['PCA_6'] = np.dot(pca_components, weights)"
   ]
  },
  {
   "cell_type": "code",
   "execution_count": 19,
   "metadata": {
    "collapsed": false
   },
   "outputs": [
    {
     "data": {
      "text/plain": [
       "<matplotlib.axes._subplots.AxesSubplot at 0x7fc1977900d0>"
      ]
     },
     "execution_count": 19,
     "metadata": {},
     "output_type": "execute_result"
    },
    {
     "data": {
      "image/png": "[encoded data removed]",
      "text/plain": [
       "<matplotlib.figure.Figure at 0x7fc1977b0450>"
      ]
     },
     "metadata": {},
     "output_type": "display_data"
    }
   ],
   "source": [
    "import matplotlib.pyplot as plt\n",
    "%matplotlib inline\n",
    "dax.apply(scale_function).plot(figsize=(8, 4))\n",
    "# tag: pca_2\n",
    "# title: German DAX index and PCA indices with 1 and 6 components"
   ]
  },
  {
   "cell_type": "raw",
   "metadata": {},
   "source": [
    "Inspect the relationship between the DAX index and the PCA index via a scatter plot, adding date information to the mix.\n",
    "First, we convert the DatetimeIndex of the dataFrame Object to a matplotlib compatible format:"
   ]
  },
  {
   "cell_type": "code",
   "execution_count": 20,
   "metadata": {
    "collapsed": false,
    "scrolled": true
   },
   "outputs": [
    {
     "data": {
      "text/plain": [
       "array([ 736094.,  736095.,  736096.,  736097.,  736101.,  736102.,\n",
       "        736103.,  736104.,  736107.,  736108.,  736109.,  736110.,\n",
       "        736111.,  736114.,  736115.,  736116.,  736117.,  736118.,\n",
       "        736121.,  736122.,  736123.,  736124.,  736125.,  736128.,\n",
       "        736129.,  736130.,  736131.,  736132.,  736135.,  736136.,\n",
       "        736137.,  736138.,  736139.,  736142.,  736143.,  736144.,\n",
       "        736145.,  736146.,  736149.,  736150.,  736151.,  736152.,\n",
       "        736153.,  736156.,  736157.,  736158.,  736159.,  736160.,\n",
       "        736163.,  736164.,  736165.,  736166.,  736167.,  736170.,\n",
       "        736171.,  736172.,  736173.,  736174.,  736177.,  736178.,\n",
       "        736179.,  736180.,  736181.,  736184.,  736185.,  736186.,\n",
       "        736187.,  736188.,  736191.,  736192.,  736193.,  736194.,\n",
       "        736195.,  736198.,  736199.,  736200.,  736201.,  736202.,\n",
       "        736205.,  736206.,  736207.,  736208.,  736209.,  736212.,\n",
       "        736213.,  736214.,  736215.,  736216.,  736219.,  736220.,\n",
       "        736221.,  736222.,  736223.,  736226.,  736227.,  736228.,\n",
       "        736229.,  736230.,  736233.,  736234.,  736235.,  736236.,\n",
       "        736237.,  736241.,  736242.,  736243.,  736244.,  736247.,\n",
       "        736248.,  736249.,  736250.,  736251.,  736254.,  736255.,\n",
       "        736256.,  736257.,  736258.,  736261.,  736262.,  736263.,\n",
       "        736264.,  736265.,  736268.,  736269.,  736270.,  736271.,\n",
       "        736272.,  736275.,  736276.,  736277.,  736278.,  736279.,\n",
       "        736282.,  736283.,  736284.,  736285.,  736286.,  736289.,\n",
       "        736290.,  736291.,  736292.,  736293.,  736296.,  736297.,\n",
       "        736298.,  736299.,  736300.,  736303.,  736304.,  736305.,\n",
       "        736306.,  736307.,  736310.,  736311.,  736312.,  736313.,\n",
       "        736314.,  736317.,  736318.,  736319.,  736320.,  736321.,\n",
       "        736325.,  736326.,  736327.,  736328.,  736331.,  736332.,\n",
       "        736333.,  736334.,  736335.,  736338.,  736339.,  736340.,\n",
       "        736341.,  736342.,  736345.,  736346.,  736347.,  736348.,\n",
       "        736349.,  736352.,  736353.,  736354.,  736355.,  736356.,\n",
       "        736359.,  736360.,  736361.,  736362.,  736363.,  736366.,\n",
       "        736367.,  736368.,  736369.,  736370.,  736373.,  736374.,\n",
       "        736375.,  736376.,  736377.,  736380.,  736381.,  736382.,\n",
       "        736383.,  736384.,  736387.,  736388.,  736389.,  736390.,\n",
       "        736391.,  736394.,  736395.,  736396.,  736397.,  736398.,\n",
       "        736401.,  736402.,  736403.,  736404.,  736405.,  736408.,\n",
       "        736409.,  736410.,  736411.,  736412.,  736415.,  736416.,\n",
       "        736417.,  736418.,  736419.,  736422.,  736423.,  736424.,\n",
       "        736425.,  736426.,  736429.,  736430.,  736431.,  736432.,\n",
       "        736437.,  736438.,  736439.,  736440.,  736443.,  736444.,\n",
       "        736445.,  736446.,  736447.,  736451.,  736452.,  736453.,\n",
       "        736454.,  736457.,  736458.,  736459.])"
      ]
     },
     "execution_count": 20,
     "metadata": {},
     "output_type": "execute_result"
    }
   ],
   "source": [
    "import matplotlib as mpl\n",
    "mpl_dates = mpl.dates.date2num(data.index.to_pydatetime())\n",
    "mpl_dates"
   ]
  },
  {
   "cell_type": "code",
   "execution_count": 27,
   "metadata": {
    "collapsed": false,
    "scrolled": true
   },
   "outputs": [
    {
     "data": {
      "text/plain": [
       "<matplotlib.colorbar.Colorbar at 0x7fc196f316d0>"
      ]
     },
     "execution_count": 27,
     "metadata": {},
     "output_type": "execute_result"
    },
    {
     "data": {
      "image/png": "[encoded data removed]",
      "text/plain": [
       "<matplotlib.figure.Figure at 0x7fc197054f90>"
      ]
     },
     "metadata": {},
     "output_type": "display_data"
    }
   ],
   "source": [
    "plt.figure(figsize=(8, 4))\n",
    "plt.scatter(dax['PCA_6'], dax['^GDAXI'], c=mpl_dates)\n",
    "lin_reg = np.polyval(np.polyfit(dax['PCA_6'],\n",
    "                                dax['^GDAXI'], 1),\n",
    "                                dax['PCA_6'])\n",
    "plt.plot(dax['PCA_6'], lin_reg, 'r', lw=3)\n",
    "plt.grid(True)\n",
    "plt.xlabel('PCA_6')\n",
    "plt.ylabel('^GDAXI')\n",
    "plt.colorbar(ticks=mpl.dates.DayLocator(interval=250),\n",
    "                format=mpl.dates.DateFormatter('%d %b %y'))\n",
    "# tag: pca_3\n",
    "# title: DAX return values against PCA return values with linear regression"
   ]
  },
  {
   "cell_type": "raw",
   "metadata": {},
   "source": [
    "There's obviously some kind of strucutral break sometime in the middle of September of 2016.\n",
    "Let us divide the total time frame into two subintervals early and late session respectively."
   ]
  },
  {
   "cell_type": "code",
   "execution_count": 22,
   "metadata": {
    "collapsed": true
   },
   "outputs": [],
   "source": [
    "cut_date = '2016/9/21'\n",
    "early_pca = dax[dax.index < cut_date]['PCA_6']\n",
    "early_reg = np.polyval(np.polyfit(early_pca,\n",
    "                dax['^GDAXI'][dax.index < cut_date], 1),\n",
    "                early_pca)"
   ]
  },
  {
   "cell_type": "code",
   "execution_count": 23,
   "metadata": {
    "collapsed": true
   },
   "outputs": [],
   "source": [
    "late_pca = dax[dax.index >= cut_date]['PCA_6']\n",
    "late_reg = np.polyval(np.polyfit(late_pca,\n",
    "                dax['^GDAXI'][dax.index >= cut_date], 1),\n",
    "                late_pca)"
   ]
  },
  {
   "cell_type": "code",
   "execution_count": 24,
   "metadata": {
    "collapsed": false
   },
   "outputs": [
    {
     "data": {
      "text/plain": [
       "<matplotlib.colorbar.Colorbar at 0x7fc19736ad10>"
      ]
     },
     "execution_count": 24,
     "metadata": {},
     "output_type": "execute_result"
    },
    {
     "data": {
      "image/png": "[encoded data removed]",
      "text/plain": [
       "<matplotlib.figure.Figure at 0x7fc1975378d0>"
      ]
     },
     "metadata": {},
     "output_type": "display_data"
    }
   ],
   "source": [
    "plt.figure(figsize=(8, 4))\n",
    "plt.scatter(dax['PCA_6'], dax['^GDAXI'], c=mpl_dates)\n",
    "plt.plot(early_pca, early_reg, 'r', lw=3)\n",
    "plt.plot(late_pca, late_reg, 'r', lw=3)\n",
    "plt.grid(True)\n",
    "plt.xlabel('PCA_6')\n",
    "plt.ylabel('^GDAXI')\n",
    "plt.colorbar(ticks=mpl.dates.DayLocator(interval=250),\n",
    "                format=mpl.dates.DateFormatter('%d %b %y'))\n",
    "# tag: pca_7\n",
    "# title: DAX index values against PCA index values with early and late regression (regime switch)"
   ]
  },
  {
   "cell_type": "raw",
   "metadata": {},
   "source": [
    "The new regression lines show high explanatory power both before our cutoff date and thereafter."
   ]
  }
 ],
 "metadata": {
  "kernelspec": {
   "display_name": "data_analysis",
   "language": "python",
   "name": "data_analysis"
  },
  "language_info": {
   "codemirror_mode": {
    "name": "ipython",
    "version": 2
   },
   "file_extension": ".py",
   "mimetype": "text/x-python",
   "name": "python",
   "nbconvert_exporter": "python",
   "pygments_lexer": "ipython2",
   "version": "2.7.6"
  }
 },
 "nbformat": 4,
 "nbformat_minor": 0
}
