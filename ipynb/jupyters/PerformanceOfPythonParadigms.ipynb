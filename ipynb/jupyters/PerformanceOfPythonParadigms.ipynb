{
 "cells": [
  {
   "cell_type": "markdown",
   "metadata": {},
   "source": [
    "## PerformanceOfPythonParadigms"
   ]
  },
  {
   "cell_type": "code",
   "execution_count": 1,
   "metadata": {
    "collapsed": true
   },
   "outputs": [],
   "source": [
    "def perf_comp_data(func_list, data_list, rep=3, number=1):\n",
    "    ''' Function to compare the performance of different functions.\n",
    "    \n",
    "    Parameters\n",
    "    ==========\n",
    "    func_list : list\n",
    "        list with function names as strings\n",
    "    data_list : list\n",
    "        list with data set names as strings\n",
    "    rep : int\n",
    "        number of repetitions of the whole comparison\n",
    "    number : int\n",
    "        number of executions for every function\n",
    "    '''\n",
    "    from timeit import repeat\n",
    "    res_list = {}\n",
    "    for name in enumerate(func_list):\n",
    "        stmt = name[1] + '(' + data_list[name[0]] + ')'\n",
    "        setup = \"from __main__ import \" + name[1] + ', ' \\\n",
    "                                    + data_list[name[0]]\n",
    "        results = repeat(stmt=stmt, setup=setup,\n",
    "                         repeat=rep, number=number)\n",
    "        res_list[name[1]] = sum(results) / rep\n",
    "    res_sort = sorted(res_list.items(),\n",
    "                      key=lambda x: (x[1], x[0]))\n",
    "    for item in res_sort:\n",
    "        rel = item[1] / res_sort[0][1]\n",
    "        print ('function: ' + item[0] +\n",
    "              ', av. time sec: %9.5f, ' % item[1]\n",
    "            + 'relative: %6.1f' % rel)"
   ]
  },
  {
   "cell_type": "code",
   "execution_count": 2,
   "metadata": {
    "collapsed": true
   },
   "outputs": [],
   "source": [
    "from math import *\n",
    "def f(x):\n",
    "    return abs(cos(x)) ** 0.5 + sin(2 + 3 * x)"
   ]
  },
  {
   "cell_type": "code",
   "execution_count": 3,
   "metadata": {
    "collapsed": true
   },
   "outputs": [],
   "source": [
    "I = 500000\n",
    "a_py = range(I)"
   ]
  },
  {
   "cell_type": "code",
   "execution_count": 4,
   "metadata": {
    "collapsed": true
   },
   "outputs": [],
   "source": [
    "def f1(a):\n",
    "    res = []\n",
    "    for x in a:\n",
    "        res.append(f(x))\n",
    "    return res"
   ]
  },
  {
   "cell_type": "code",
   "execution_count": 5,
   "metadata": {
    "collapsed": true
   },
   "outputs": [],
   "source": [
    "def f2(a):\n",
    "    return [f(x) for x in a]"
   ]
  },
  {
   "cell_type": "code",
   "execution_count": 6,
   "metadata": {
    "collapsed": true
   },
   "outputs": [],
   "source": [
    "def f3(a):\n",
    "    ex = 'abs(cos(x)) ** 0.5 + sin(2 + 3 * x)'\n",
    "    return [eval(ex) for x in a]"
   ]
  },
  {
   "cell_type": "code",
   "execution_count": 7,
   "metadata": {
    "collapsed": true
   },
   "outputs": [],
   "source": [
    "import numpy as np"
   ]
  },
  {
   "cell_type": "code",
   "execution_count": 8,
   "metadata": {
    "collapsed": true
   },
   "outputs": [],
   "source": [
    "a_np = np.arange(I)"
   ]
  },
  {
   "cell_type": "code",
   "execution_count": 9,
   "metadata": {
    "collapsed": false
   },
   "outputs": [
    {
     "data": {
      "text/plain": [
       "array([     0,      1,      2, ..., 499997, 499998, 499999])"
      ]
     },
     "execution_count": 9,
     "metadata": {},
     "output_type": "execute_result"
    }
   ],
   "source": [
    "a_np"
   ]
  },
  {
   "cell_type": "code",
   "execution_count": 10,
   "metadata": {
    "collapsed": true
   },
   "outputs": [],
   "source": [
    "def f4(a):\n",
    "    return (np.abs(np.cos(a)) ** 0.5 +\n",
    "            np.sin(2 + 3 * a))"
   ]
  },
  {
   "cell_type": "code",
   "execution_count": 11,
   "metadata": {
    "collapsed": true
   },
   "outputs": [],
   "source": [
    "import numexpr as ne"
   ]
  },
  {
   "cell_type": "code",
   "execution_count": 12,
   "metadata": {
    "collapsed": true
   },
   "outputs": [],
   "source": [
    "def f5(a):\n",
    "    ex = 'abs(cos(a)) ** 0.5 + sin(2 + 3 * a)'\n",
    "    ne.set_num_threads(1)\n",
    "    return ne.evaluate(ex)"
   ]
  },
  {
   "cell_type": "code",
   "execution_count": 13,
   "metadata": {
    "collapsed": true
   },
   "outputs": [],
   "source": [
    "def f6(a):\n",
    "    ex = 'abs(cos(a)) ** 0.5 + sin(2 + 3 * a)'\n",
    "    ne.set_num_threads(4)\n",
    "    return ne.evaluate(ex)"
   ]
  },
  {
   "cell_type": "code",
   "execution_count": 14,
   "metadata": {
    "collapsed": false
   },
   "outputs": [
    {
     "name": "stdout",
     "output_type": "stream",
     "text": [
      "CPU times: user 16.3 s, sys: 120 ms, total: 16.4 s\n",
      "Wall time: 18.9 s\n"
     ]
    }
   ],
   "source": [
    "%%time\n",
    "r1 = f1(a_py)\n",
    "r2 = f2(a_py)\n",
    "r3 = f3(a_py)\n",
    "r4 = f4(a_np)\n",
    "r5 = f5(a_np)\n",
    "r6 = f6(a_np)"
   ]
  },
  {
   "cell_type": "code",
   "execution_count": 15,
   "metadata": {
    "collapsed": true
   },
   "outputs": [],
   "source": [
    "func_list = ['f1', 'f2', 'f3', 'f4', 'f5', 'f6']\n",
    "data_list = ['a_py', 'a_py', 'a_py', 'a_np', 'a_np', 'a_np']"
   ]
  },
  {
   "cell_type": "code",
   "execution_count": 16,
   "metadata": {
    "collapsed": false
   },
   "outputs": [
    {
     "name": "stdout",
     "output_type": "stream",
     "text": [
      "function: f4, av. time sec:   0.08563, relative:    1.0\n",
      "function: f5, av. time sec:   0.10380, relative:    1.2\n",
      "function: f6, av. time sec:   0.16463, relative:    1.9\n",
      "function: f1, av. time sec:   0.92948, relative:   10.9\n",
      "function: f2, av. time sec:   1.08105, relative:   12.6\n",
      "function: f3, av. time sec:  16.52532, relative:  193.0\n"
     ]
    }
   ],
   "source": [
    "perf_comp_data(func_list, data_list)"
   ]
  },
  {
   "cell_type": "markdown",
   "metadata": {},
   "source": [
    "vector > single thread > multithread > loop > iterator > eval"
   ]
  },
  {
   "cell_type": "markdown",
   "metadata": {},
   "source": [
    "## Memory Layout and Performance"
   ]
  },
  {
   "cell_type": "markdown",
   "metadata": {},
   "source": [
    "The initialization of an ndarray object takes these input:\n",
    "- shape: an int, a sequence of ints, or a reference to another numpy.ndarray.\n",
    "- dtype: np.float64 or np.int32 or f8.NumPy\n",
    "- order: C for C-like (row-wise) or Fortran-like (column-wise)."
   ]
  },
  {
   "cell_type": "code",
   "execution_count": 17,
   "metadata": {
    "collapsed": true
   },
   "outputs": [],
   "source": [
    "import numpy as np"
   ]
  },
  {
   "cell_type": "code",
   "execution_count": 18,
   "metadata": {
    "collapsed": false
   },
   "outputs": [
    {
     "data": {
      "text/plain": [
       "array([[ 0.,  0.,  0.],\n",
       "       [ 0.,  0.,  0.],\n",
       "       [ 0.,  0.,  0.]])"
      ]
     },
     "execution_count": 18,
     "metadata": {},
     "output_type": "execute_result"
    }
   ],
   "source": [
    "np.zeros((3, 3), dtype=np.float64, order='C')"
   ]
  },
  {
   "cell_type": "code",
   "execution_count": 19,
   "metadata": {
    "collapsed": true
   },
   "outputs": [],
   "source": [
    "c = np.array([[ 1.,  1.,  1.],\n",
    "              [ 2.,  2.,  2.],\n",
    "              [ 3.,  3.,  3.]], order='C')"
   ]
  },
  {
   "cell_type": "code",
   "execution_count": 20,
   "metadata": {
    "collapsed": true
   },
   "outputs": [],
   "source": [
    "f = np.array([[ 1.,  1.,  1.],\n",
    "              [ 2.,  2.,  2.],\n",
    "              [ 3.,  3.,  3.]], order='F')"
   ]
  },
  {
   "cell_type": "code",
   "execution_count": 21,
   "metadata": {
    "collapsed": true
   },
   "outputs": [],
   "source": [
    "x = np.random.standard_normal((3, 150000))\n",
    "C = np.array(x, order='C')\n",
    "F = np.array(x, order='F')\n",
    "x = 0.0"
   ]
  },
  {
   "cell_type": "code",
   "execution_count": 33,
   "metadata": {
    "collapsed": false
   },
   "outputs": [
    {
     "data": {
      "text/plain": [
       "array([[-1.22349171, -0.95017138,  0.13653127, ...,  0.91515663,\n",
       "         1.00209552,  0.85109783],\n",
       "       [-1.28733315,  1.14363454,  0.25897811, ...,  0.48444842,\n",
       "         0.34263054, -0.03580457],\n",
       "       [-1.58062572, -0.20599876,  0.4977241 , ...,  0.23046255,\n",
       "        -2.45750949, -0.15567964]])"
      ]
     },
     "execution_count": 33,
     "metadata": {},
     "output_type": "execute_result"
    }
   ],
   "source": [
    "C"
   ]
  },
  {
   "cell_type": "code",
   "execution_count": 34,
   "metadata": {
    "collapsed": false
   },
   "outputs": [
    {
     "data": {
      "text/plain": [
       "array([[-1.22349171, -0.95017138,  0.13653127, ...,  0.91515663,\n",
       "         1.00209552,  0.85109783],\n",
       "       [-1.28733315,  1.14363454,  0.25897811, ...,  0.48444842,\n",
       "         0.34263054, -0.03580457],\n",
       "       [-1.58062572, -0.20599876,  0.4977241 , ...,  0.23046255,\n",
       "        -2.45750949, -0.15567964]])"
      ]
     },
     "execution_count": 34,
     "metadata": {},
     "output_type": "execute_result"
    }
   ],
   "source": [
    "F"
   ]
  },
  {
   "cell_type": "code",
   "execution_count": 22,
   "metadata": {
    "collapsed": false
   },
   "outputs": [
    {
     "name": "stdout",
     "output_type": "stream",
     "text": [
      "The slowest run took 9.98 times longer than the fastest. This could mean that an intermediate result is being cached.\n",
      "1000 loops, best of 3: 826 µs per loop\n"
     ]
    }
   ],
   "source": [
    "%timeit C.sum(axis=0)"
   ]
  },
  {
   "cell_type": "code",
   "execution_count": 23,
   "metadata": {
    "collapsed": false
   },
   "outputs": [
    {
     "name": "stdout",
     "output_type": "stream",
     "text": [
      "1000 loops, best of 3: 398 µs per loop\n"
     ]
    }
   ],
   "source": [
    "%timeit C.sum(axis=1)"
   ]
  },
  {
   "cell_type": "code",
   "execution_count": 24,
   "metadata": {
    "collapsed": false
   },
   "outputs": [
    {
     "name": "stdout",
     "output_type": "stream",
     "text": [
      "10 loops, best of 3: 22.3 ms per loop\n"
     ]
    }
   ],
   "source": [
    "%timeit C.std(axis=0)"
   ]
  },
  {
   "cell_type": "code",
   "execution_count": 25,
   "metadata": {
    "collapsed": false
   },
   "outputs": [
    {
     "name": "stdout",
     "output_type": "stream",
     "text": [
      "The slowest run took 11.49 times longer than the fastest. This could mean that an intermediate result is being cached.\n",
      "100 loops, best of 3: 3.58 ms per loop\n"
     ]
    }
   ],
   "source": [
    "%timeit C.std(axis=1)"
   ]
  },
  {
   "cell_type": "code",
   "execution_count": 26,
   "metadata": {
    "collapsed": false
   },
   "outputs": [
    {
     "name": "stdout",
     "output_type": "stream",
     "text": [
      "100 loops, best of 3: 5.63 ms per loop\n"
     ]
    }
   ],
   "source": [
    "%timeit F.sum(axis=0)"
   ]
  },
  {
   "cell_type": "code",
   "execution_count": 27,
   "metadata": {
    "collapsed": false
   },
   "outputs": [
    {
     "name": "stdout",
     "output_type": "stream",
     "text": [
      "100 loops, best of 3: 5.84 ms per loop\n"
     ]
    }
   ],
   "source": [
    "%timeit F.sum(axis=1)"
   ]
  },
  {
   "cell_type": "code",
   "execution_count": 28,
   "metadata": {
    "collapsed": false
   },
   "outputs": [
    {
     "name": "stdout",
     "output_type": "stream",
     "text": [
      "10 loops, best of 3: 19.7 ms per loop\n"
     ]
    }
   ],
   "source": [
    "%timeit F.std(axis=0)"
   ]
  },
  {
   "cell_type": "code",
   "execution_count": 29,
   "metadata": {
    "collapsed": false
   },
   "outputs": [
    {
     "name": "stdout",
     "output_type": "stream",
     "text": [
      "10 loops, best of 3: 17.4 ms per loop\n"
     ]
    }
   ],
   "source": [
    "%timeit F.std(axis=1)"
   ]
  },
  {
   "cell_type": "markdown",
   "metadata": {},
   "source": [
    "The results indicate that in general the **C-like** option will perform better."
   ]
  },
  {
   "cell_type": "markdown",
   "metadata": {},
   "source": [
    "## Parallel Computing"
   ]
  },
  {
   "cell_type": "markdown",
   "metadata": {},
   "source": [
    "### The Monte Carlo Algorithm"
   ]
  },
  {
   "cell_type": "code",
   "execution_count": 35,
   "metadata": {
    "collapsed": true
   },
   "outputs": [],
   "source": [
    "def bsm_mcs_valuation(strike):\n",
    "    ''' Dynamic Black-Scholes-Merton Monte Carlo estimator\n",
    "    for European calls.\n",
    "    \n",
    "    Parameters\n",
    "    ==========\n",
    "    strike : float\n",
    "        strike price of the option\n",
    "    \n",
    "    Results\n",
    "    =======\n",
    "    value : float\n",
    "        estimate for present value of call option\n",
    "    '''\n",
    "    import numpy as np\n",
    "    S0 = 100.; T = 1.0; r = 0.05; vola = 0.2\n",
    "    M = 50; I = 20000\n",
    "    dt = T / M\n",
    "    rand = np.random.standard_normal((M + 1, I))\n",
    "    S = np.zeros((M + 1, I)); S[0] = S0\n",
    "    for t in range(1, M + 1):\n",
    "        S[t] = S[t-1] * np.exp((r - 0.5 * vola ** 2) * dt\n",
    "                               + vola * np.sqrt(dt) * rand[t])\n",
    "    value = (np.exp(-r * T)\n",
    "                     * np.sum(np.maximum(S[-1] - strike, 0)) / I)\n",
    "    return value"
   ]
  },
  {
   "cell_type": "markdown",
   "metadata": {},
   "source": [
    "### The Sequential Calculation"
   ]
  },
  {
   "cell_type": "code",
   "execution_count": 36,
   "metadata": {
    "collapsed": true
   },
   "outputs": [],
   "source": [
    "def seq_value(n):\n",
    "    ''' Sequential option valuation.\n",
    "    \n",
    "    Parameters\n",
    "    ==========\n",
    "    n : int\n",
    "        number of option valuations/strikes\n",
    "    '''\n",
    "    strikes = np.linspace(80, 120, n)\n",
    "    option_values = []\n",
    "    for strike in strikes:\n",
    "        option_values.append(bsm_mcs_valuation(strike))\n",
    "    return strikes, option_values"
   ]
  },
  {
   "cell_type": "code",
   "execution_count": 40,
   "metadata": {
    "collapsed": false
   },
   "outputs": [
    {
     "name": "stdout",
     "output_type": "stream",
     "text": [
      "CPU times: user 13.1 s, sys: 516 ms, total: 13.6 s\n",
      "Wall time: 16.1 s\n"
     ]
    }
   ],
   "source": [
    "n = 100  # number of options to be valued\n",
    "%time strikes, option_values_seq = seq_value(n)"
   ]
  },
  {
   "cell_type": "code",
   "execution_count": 41,
   "metadata": {
    "collapsed": false
   },
   "outputs": [
    {
     "data": {
      "text/plain": [
       "<matplotlib.text.Text at 0x7fee08a2a390>"
      ]
     },
     "execution_count": 41,
     "metadata": {},
     "output_type": "execute_result"
    },
    {
     "data": {
      "image/png": "[encoded data removed]",
      "text/plain": [
       "<matplotlib.figure.Figure at 0x7fee08d255d0>"
      ]
     },
     "metadata": {},
     "output_type": "display_data"
    }
   ],
   "source": [
    "import matplotlib.pyplot as plt\n",
    "%matplotlib inline\n",
    "plt.figure(figsize=(8, 4))\n",
    "plt.plot(strikes, option_values_seq, 'b')\n",
    "plt.plot(strikes, option_values_seq, 'r.')\n",
    "plt.grid(True)\n",
    "plt.xlabel('strikes')\n",
    "plt.ylabel('European call option values')\n",
    "# tag: option_values\n",
    "# title: European call option values by Monte Carlo simulation\n",
    "# size: 60"
   ]
  },
  {
   "cell_type": "markdown",
   "metadata": {},
   "source": [
    "## Multiprocessing"
   ]
  },
  {
   "cell_type": "code",
   "execution_count": 68,
   "metadata": {
    "collapsed": true
   },
   "outputs": [],
   "source": [
    "import multiprocessing as mp"
   ]
  },
  {
   "cell_type": "code",
   "execution_count": 69,
   "metadata": {
    "collapsed": true
   },
   "outputs": [],
   "source": [
    "import math\n",
    "def simulate_geometric_brownian_motion(p):\n",
    "    M, I = p\n",
    "      # time steps, paths\n",
    "    S0 = 100; r = 0.05; sigma = 0.2; T = 1.0\n",
    "      # model parameters\n",
    "    dt = T / M\n",
    "    paths = np.zeros((M + 1, I))\n",
    "    paths[0] = S0\n",
    "    for t in range(1, M + 1):\n",
    "        paths[t] = paths[t - 1] * np.exp((r - 0.5 * sigma ** 2) * dt +\n",
    "                    sigma * math.sqrt(dt) * np.random.standard_normal(I))\n",
    "    return paths"
   ]
  },
  {
   "cell_type": "code",
   "execution_count": 70,
   "metadata": {
    "collapsed": false
   },
   "outputs": [
    {
     "data": {
      "text/plain": [
       "array([[ 100.        ,  100.        ],\n",
       "       [ 112.9894442 ,  105.03464892],\n",
       "       [ 106.32843713,  106.85464272],\n",
       "       [  99.68872683,  108.10796534],\n",
       "       [ 102.99998662,  108.54783584],\n",
       "       [  85.49169447,  112.27808436]])"
      ]
     },
     "execution_count": 70,
     "metadata": {},
     "output_type": "execute_result"
    }
   ],
   "source": [
    "paths = simulate_geometric_brownian_motion((5, 2))\n",
    "paths"
   ]
  },
  {
   "cell_type": "code",
   "execution_count": 71,
   "metadata": {
    "collapsed": true
   },
   "outputs": [],
   "source": [
    "I = 10000  # number of paths\n",
    "M = 50  # number of time steps\n",
    "t = 20  # number of tasks/simulations"
   ]
  },
  {
   "cell_type": "code",
   "execution_count": 72,
   "metadata": {
    "collapsed": true
   },
   "outputs": [],
   "source": [
    "# running on server with 4 cores\n",
    "from time import time\n",
    "times = []\n",
    "for w in range(1, 5):\n",
    "    t0 = time()\n",
    "    pool = mp.Pool(processes=w)\n",
    "      # the pool of workers\n",
    "    result = pool.map(simulate_geometric_brownian_motion, t * [(M, I), ])\n",
    "      # the mapping of the function to the list of parameter tuples\n",
    "    times.append(time() - t0)"
   ]
  },
  {
   "cell_type": "code",
   "execution_count": 73,
   "metadata": {
    "collapsed": false,
    "scrolled": true
   },
   "outputs": [
    {
     "data": {
      "text/plain": [
       "<matplotlib.text.Text at 0x7fee08855f50>"
      ]
     },
     "execution_count": 73,
     "metadata": {},
     "output_type": "execute_result"
    },
    {
     "data": {
      "image/png": "[encoded data removed]",
      "text/plain": [
       "<matplotlib.figure.Figure at 0x7fee08874bd0>"
      ]
     },
     "metadata": {},
     "output_type": "display_data"
    }
   ],
   "source": [
    "plt.plot(range(1, 5), times)\n",
    "plt.plot(range(1, 5), times, 'ro')\n",
    "plt.grid(True)\n",
    "plt.xlabel('number of processes')\n",
    "plt.ylabel('time in seconds')\n",
    "plt.title('%d Monte Carlo simulations' % t)\n",
    "# tag: multi_proc\n",
    "# title: Comparison execution speed dependent on the number of threads used (4 core machine)\n",
    "# size: 60"
   ]
  },
  {
   "cell_type": "markdown",
   "metadata": {},
   "source": [
    "## Dynamic Compiling"
   ]
  },
  {
   "cell_type": "markdown",
   "metadata": {},
   "source": [
    "Numba is a NumPy-aware optimizing compiler for Python code. It uses the LLVM compiler infrastructure to compile Python byte code to machine code especially for use in the NumPy runtime and SciPy modules."
   ]
  },
  {
   "cell_type": "code",
   "execution_count": 74,
   "metadata": {
    "collapsed": true
   },
   "outputs": [],
   "source": [
    "from math import cos, log\n",
    "def f_py(I, J):\n",
    "    res = 0\n",
    "    for i in range(I):\n",
    "        for j in range (J):\n",
    "            res += int(cos(log(1)))\n",
    "    return res"
   ]
  },
  {
   "cell_type": "code",
   "execution_count": 75,
   "metadata": {
    "collapsed": false
   },
   "outputs": [
    {
     "name": "stdout",
     "output_type": "stream",
     "text": [
      "CPU times: user 3.5 s, sys: 24 ms, total: 3.52 s\n",
      "Wall time: 4.67 s\n"
     ]
    },
    {
     "data": {
      "text/plain": [
       "6250000"
      ]
     },
     "execution_count": 75,
     "metadata": {},
     "output_type": "execute_result"
    }
   ],
   "source": [
    "I, J = 2500, 2500\n",
    "%time f_py(I, J)"
   ]
  },
  {
   "cell_type": "code",
   "execution_count": 76,
   "metadata": {
    "collapsed": true
   },
   "outputs": [],
   "source": [
    "def f_np(I, J):\n",
    "    a = np.ones((I, J), dtype=np.float64)\n",
    "    return int(np.sum(np.cos(np.log(a)))), a"
   ]
  },
  {
   "cell_type": "code",
   "execution_count": 77,
   "metadata": {
    "collapsed": false
   },
   "outputs": [
    {
     "name": "stdout",
     "output_type": "stream",
     "text": [
      "CPU times: user 392 ms, sys: 208 ms, total: 600 ms\n",
      "Wall time: 1.27 s\n"
     ]
    }
   ],
   "source": [
    "%time res, a = f_np(I, J)"
   ]
  },
  {
   "cell_type": "code",
   "execution_count": 79,
   "metadata": {
    "collapsed": false
   },
   "outputs": [],
   "source": [
    "import numba as nb"
   ]
  },
  {
   "cell_type": "code",
   "execution_count": 80,
   "metadata": {
    "collapsed": true
   },
   "outputs": [],
   "source": [
    "f_nb = nb.jit(f_py)"
   ]
  },
  {
   "cell_type": "code",
   "execution_count": 81,
   "metadata": {
    "collapsed": false
   },
   "outputs": [
    {
     "name": "stdout",
     "output_type": "stream",
     "text": [
      "CPU times: user 208 ms, sys: 88 ms, total: 296 ms\n",
      "Wall time: 643 ms\n"
     ]
    },
    {
     "data": {
      "text/plain": [
       "6250000"
      ]
     },
     "execution_count": 81,
     "metadata": {},
     "output_type": "execute_result"
    }
   ],
   "source": [
    "%time f_nb(I, J)"
   ]
  },
  {
   "cell_type": "code",
   "execution_count": 82,
   "metadata": {
    "collapsed": true
   },
   "outputs": [],
   "source": [
    "func_list = ['f_py', 'f_np', 'f_nb']\n",
    "data_list = 3 * ['I, J']"
   ]
  },
  {
   "cell_type": "code",
   "execution_count": 83,
   "metadata": {
    "collapsed": false
   },
   "outputs": [
    {
     "name": "stdout",
     "output_type": "stream",
     "text": [
      "function: f_nb, av. time sec:   0.00000, relative:    1.0\n",
      "function: f_np, av. time sec:   0.58592, relative: 160274.7\n",
      "function: f_py, av. time sec:   4.36530, relative: 1194091.2\n"
     ]
    }
   ],
   "source": [
    "perf_comp_data(func_list, data_list)"
   ]
  },
  {
   "cell_type": "markdown",
   "metadata": {},
   "source": [
    "- Efficiency: using Numba calls the jit function.\n",
    "- Speed-up: Numba leads to improvements in execution speed, not only compared to pure Python but also to vectorized Numpy implementations.\n",
    "- Memory: no need to initialize large array objects."
   ]
  },
  {
   "cell_type": "markdown",
   "metadata": {},
   "source": [
    "## Conclusion:\n",
    "- Paradigms:\n",
    "    vector > single thread > multithread > loop > iterator > eval.\n",
    "- Libraries:\n",
    "    numexpr.\n",
    "- Compiling:\n",
    "    Numba.\n",
    "- Paralleization:\n",
    "    IPython.parallel, NumbaPro."
   ]
  }
 ],
 "metadata": {
  "kernelspec": {
   "display_name": "data_analysis",
   "language": "python",
   "name": "data_analysis"
  },
  "language_info": {
   "codemirror_mode": {
    "name": "ipython",
    "version": 2
   },
   "file_extension": ".py",
   "mimetype": "text/x-python",
   "name": "python",
   "nbconvert_exporter": "python",
   "pygments_lexer": "ipython2",
   "version": "2.7.6"
  }
 },
 "nbformat": 4,
 "nbformat_minor": 0
}
